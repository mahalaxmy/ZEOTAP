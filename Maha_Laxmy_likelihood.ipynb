{
  "nbformat": 4,
  "nbformat_minor": 0,
  "metadata": {
    "colab": {
      "provenance": []
    },
    "kernelspec": {
      "name": "python3",
      "display_name": "Python 3"
    },
    "language_info": {
      "name": "python"
    }
  },
  "cells": [
    {
      "cell_type": "code",
      "source": [
        "import pandas as pd\n",
        "import io\n",
        "import requests\n",
        "\n",
        "customers_file_id = '1bu_--mo79VdUG9oin4ybfFGRUSXAe-WE'\n",
        "products_file_id = '1IKuDizVapw-hyktwfpoAoaGtHtTNHfd0'\n",
        "transactions_file_id = '1saEqdbBB-vuk2hxoAf4TzDEsykdKlzbF'\n",
        "\n",
        "def read_csv_from_google_drive(file_id):\n",
        "    \"\"\"Reads a CSV file from Google Drive given its file ID.\"\"\"\n",
        "    url = f'https://docs.google.com/uc?export=download&id={file_id}'\n",
        "    response = requests.get(url)\n",
        "    response.raise_for_status()\n",
        "    return pd.read_csv(io.StringIO(response.text))\n",
        "\n",
        "customers = read_csv_from_google_drive(customers_file_id)\n",
        "products = read_csv_from_google_drive(products_file_id)\n",
        "transactions = read_csv_from_google_drive(transactions_file_id)"
      ],
      "metadata": {
        "id": "DrKLQ4BpMnwV"
      },
      "execution_count": null,
      "outputs": []
    },
    {
      "cell_type": "code",
      "source": [
        "encoder = OneHotEncoder(sparse_output=False)\n",
        "region_encoded = encoder.fit_transform(customers[['Region']])\n",
        "region_df = pd.DataFrame(region_encoded, columns=encoder.categories_[0], index=customers['CustomerID'])"
      ],
      "metadata": {
        "id": "b7y10OqcSl6g"
      },
      "execution_count": null,
      "outputs": []
    },
    {
      "cell_type": "code",
      "source": [
        "transactions_with_customers = pd.merge(transactions, customers, on=\"CustomerID\", how=\"left\")\n",
        "transactions_with_customers = pd.merge(transactions_with_customers, products, on=\"ProductID\", how=\"left\", suffixes=('_trans', '_prod'))"
      ],
      "metadata": {
        "id": "fLSStSj-SsV7"
      },
      "execution_count": null,
      "outputs": []
    },
    {
      "cell_type": "code",
      "source": [
        "import pandas as pd\n",
        "import numpy as np\n",
        "from sklearn.metrics.pairwise import cosine_similarity\n",
        "from sklearn.preprocessing import OneHotEncoder\n",
        "from collections import defaultdict\n",
        "\n",
        "\n",
        "\n",
        "\n",
        "customer_transaction_history = transactions_with_customers.groupby('CustomerID').agg({\n",
        "    'ProductID': pd.Series.nunique,\n",
        "    'Quantity': np.sum,\n",
        "    'TotalValue': np.sum,\n",
        "    'Price': np.mean\n",
        "}).reset_index()\n",
        "\n",
        "\n",
        "\n",
        "customer_profiles = pd.merge(customer_transaction_history, region_df, left_on='CustomerID', right_index=True)\n",
        "\n",
        "features = customer_profiles.drop(columns='CustomerID')\n",
        "features_matrix = features.values\n",
        "\n",
        "cosine_sim = cosine_similarity(features_matrix)\n",
        "\n",
        "lookalike_map = defaultdict(list)\n",
        "\n",
        "for i, cust_id in enumerate(customers['CustomerID'][:20]):\n",
        "    similarity_scores = cosine_sim[i]\n",
        "    similar_customer_indices = similarity_scores.argsort()[-4:-1]\n",
        "    for idx in similar_customer_indices:\n",
        "        similar_cust_id = customers['CustomerID'].iloc[idx]\n",
        "        score = similarity_scores[idx]\n",
        "        lookalike_map[cust_id].append([similar_cust_id, score])\n",
        "\n",
        "lookalike_data = []\n",
        "for cust_id, similar_customers in lookalike_map.items():\n",
        "    for similar_cust_id, score in similar_customers:\n",
        "        lookalike_data.append([cust_id, similar_cust_id, score])\n",
        "\n",
        "lookalike_df = pd.DataFrame(lookalike_data, columns=['CustomerID', 'LookalikeCustomerID', 'SimilarityScore'])\n",
        "lookalike_df.to_csv('Lookalike.csv', index=False)\n",
        "\n",
        "print(\"Lookalike Model Generated and Saved as Lookalike.csv\")\n"
      ],
      "metadata": {
        "colab": {
          "base_uri": "https://localhost:8080/"
        },
        "id": "kUsgRxrLQ2yD",
        "outputId": "9fd9dbdf-eeea-4e86-9548-ca4b2a421110"
      },
      "execution_count": null,
      "outputs": [
        {
          "output_type": "stream",
          "name": "stdout",
          "text": [
            "Lookalike Model Generated and Saved as Lookalike.csv\n"
          ]
        },
        {
          "output_type": "stream",
          "name": "stderr",
          "text": [
            "<ipython-input-32-96626a4bb1b7>:11: FutureWarning: The provided callable <function sum at 0x7f111ca4be20> is currently using SeriesGroupBy.sum. In a future version of pandas, the provided callable will be used directly. To keep current behavior pass the string \"sum\" instead.\n",
            "  customer_transaction_history = transactions_with_customers.groupby('CustomerID').agg({\n",
            "<ipython-input-32-96626a4bb1b7>:11: FutureWarning: The provided callable <function mean at 0x7f111ca78f40> is currently using SeriesGroupBy.mean. In a future version of pandas, the provided callable will be used directly. To keep current behavior pass the string \"mean\" instead.\n",
            "  customer_transaction_history = transactions_with_customers.groupby('CustomerID').agg({\n"
          ]
        }
      ]
    }
  ]
}